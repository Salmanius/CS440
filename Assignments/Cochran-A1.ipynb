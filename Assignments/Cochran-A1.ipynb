{
 "cells": [
  {
   "cell_type": "markdown",
   "metadata": {},
   "source": [
    "# Assignment 1: Uninformed Search"
   ]
  },
  {
   "cell_type": "markdown",
   "metadata": {},
   "source": [
    "*Type your name here*"
   ]
  },
  {
   "cell_type": "markdown",
   "metadata": {},
   "source": [
    "## Overview"
   ]
  },
  {
   "cell_type": "markdown",
   "metadata": {},
   "source": [
    "Breadth-first and depth-first are two algorithms for performing\n",
    "uninformed search---a search that does not use\n",
    "knowledge about the goal of the search.  You will implement both\n",
    "search algorithms in python and test them on a simple graph."
   ]
  },
  {
   "cell_type": "markdown",
   "metadata": {},
   "source": [
    "## Required Code"
   ]
  },
  {
   "cell_type": "markdown",
   "metadata": {},
   "source": [
    "In this jupyter notebook, you must implement at least the following functions:\n",
    "\n",
    "  * `breadthFirstSearch(startState, goalState, successorsf)` \n",
    "  * `depthFirstSearch(startState, goalState, successorsf)`\n",
    "  \n",
    "Each receives as arguments the starting state, the goal state, and a successors function.  `breadthFirstSearch` returns the breadth-first solution path as a list of states starting with the `startState` and ending with the `goalState`.  `depthFirstSearch` returns the depth-first solution path.\n",
    "\n",
    "<font color=\"red\">You must</font> implement the search algorithm as specified in [A3 Problem-Solving Agents](http://nbviewer.jupyter.org/url/www.cs.colostate.edu/~anderson/cs440/notebooks/03 Problem-Solving Agents.ipynb) lecture notes."
   ]
  },
  {
   "cell_type": "markdown",
   "metadata": {},
   "source": [
    "If you prefer to develop your python code in a separate editor or IDE, you may do so.  If it is stored in a file called `A1mysolution.py`, you can use it here by executing the following cell.\n",
    "\n",
    "When your solution works, <font color=\"red\">Remember</font> to remove or comment out the following import statement and instead, paste in all of your function definintions into this notebook."
   ]
  },
  {
   "cell_type": "markdown",
   "metadata": {},
   "source": [
    "# Solution\n",
    "\n",
    "## Functions\n",
    "\n",
    "### breadthFirstSearch\n",
    "   ##### -This function was implemented to traverse trees using the algorithm outlined in section 3.1's jupyter notebook. It follows the steps changing the pseudocode into python. Comments in the functions give a better idea of each lines function.\n",
    "        \n",
    "### depthFirstSearch\n",
    "   ##### -This function was done the same as breadthFirstSearch. The only difference between the two functions is the last line. The pseudocode said to use a boolean breadthFirstSearch to say which to use, but the requirements here do not list that, and the testing does not seem to be set up to work with it. \n",
    "\n",
    "### cullChildren\n",
    "   ##### -The name was a joke about function names sounding very scary to outside ears with orphans, children, killing, etc being fairly normal words used in programming. The function itself goes through children and removes any indexes that share with expanded or unExpanded.\n",
    "            \n",
    "### tupleSearch\n",
    "   ##### - This is just a simple function to search through a tuple for an item with li being short for list and target being the thing you wish to look for. Returns boolean values."
   ]
  },
  {
   "cell_type": "code",
   "execution_count": 3,
   "metadata": {},
   "outputs": [
    {
     "name": "stdout",
     "output_type": "stream",
     "text": [
      "Breadth-first\n",
      "path from a to a is ['a']\n",
      "path from a to k is ['a', 'e', 'k']\n",
      "path from a to z is ['a', 'd', 'z']\n",
      "path from a to x is ['a', 'b', 'e', 'k', 'x']\n",
      "path from a to l is ['a', 'e', 'l']\n",
      "Depth-first\n",
      "path from a to a is ['a']\n",
      "path from a to m is ['a', 'b', 'e', 'k']\n",
      "path from a to z is ['a', 'b', 'e', 'k', 'x', 'z']\n",
      "path from a to a is ['a', 'b', 'e', 'k', 'x']\n",
      "path from a to m is ['a', 'b', 'e', 'l']\n"
     ]
    }
   ],
   "source": [
    "\n",
    "import copy\n",
    "\n",
    "def tupleSearch(li,target):\n",
    "    if (li): #returns false if the list is empty\n",
    "        return False\n",
    "    for item in li:\n",
    "        if (item[0] == target): #makes sure to check the 0th index for the first half of the tuple.\n",
    "            return True \n",
    "    return False\n",
    "    \n",
    "def cullChildren(children,expanded,unExpanded):\n",
    "    for child in children: #loops through children\n",
    "        if child in expanded.keys(): #if a key in expanded matches children, then the child is removed from children\n",
    "            children.remove(child)\n",
    "        if tupleSearch(unExpanded,child): #checks through the tuples using the tuple search method for common items and removes the child item if found.\n",
    "            children.remove(child)\n",
    "            \n",
    "#Method directly from assignment resources\n",
    "def successorsf(state): \n",
    "    return copy.copy(successors.get(state, []))\n",
    "\n",
    "#searches using breadth first\n",
    "def breadthFirstSearch(startState, goalState, successorsf):\n",
    "    #initialized expanded and unExpanded to desired values\n",
    "    expanded = {}\n",
    "    unExpanded = [(startState,None)]\n",
    "    if (startState == goalState): #checks for instant success\n",
    "        return [startState]\n",
    "    while (unExpanded): #loops until unExpanded is empty\n",
    "        state = unExpanded.pop() #pops out first item to look at. (startState,None) first run of loop\n",
    "        children = successorsf((state[0])) #generates children from given function of current state\n",
    "        expanded[state[0]] = state[1]; #adds tuple to expanded\n",
    "        cullChildren(children,expanded,unExpanded) #removes pointless children\n",
    "        if (goalState in children): #checks when we find a solution\n",
    "            solPath = [state[0],goalState] #initializes solution to current path as we have found the solution\n",
    "            parent = expanded[state[0]] #gets first parent\n",
    "            while (parent): #while parent != None \n",
    "                solPath.insert(0, parent) #insert the parent at the beginning of the list\n",
    "                parent = expanded[parent[0]] #sets parent equal to parent's parent\n",
    "            return solPath #returns finished solution path\n",
    "\n",
    "        children.sort() #sorts children\n",
    "        children.reverse() #and reverses them so comparing results are easier\n",
    "        \n",
    "        newChildren = []\n",
    "        for item in children: #creates new children tuple list using the current state as the second value and the child item as the first\n",
    "            newChildren.append((item,state[0]))\n",
    "\n",
    "            \n",
    "        #reverse order if depth-first\n",
    "        #unExpanded = newChildren + unExpanded\n",
    "        unExpanded[0:0] = newChildren #more efficient than above but does the same thing. \n",
    "        \n",
    "        \n",
    " #searches using depth first       \n",
    "def depthFirstSearch(startState, goalState, successorsf):\n",
    "    #initialized expanded and unExpanded to desired values\n",
    "    expanded = {}\n",
    "    unExpanded = [(startState,None)]\n",
    "    if (startState == goalState): #checks for instant success\n",
    "        return [startState]\n",
    "    while (unExpanded): #loops until unExpanded is empty\n",
    "        state = unExpanded.pop() #pops out first item to look at. (startState,None) first run of loop\n",
    "        children = successorsf((state[0])) #generates children from given function of current state\n",
    "        expanded[state[0]] = state[1]; #adds tuple to expanded\n",
    "        cullChildren(children,expanded,unExpanded) #removes pointless children\n",
    "        if (goalState in children): #checks when we find a solution\n",
    "            solPath = [state[0],goalState] #initializes solution to current path as we have found the solution\n",
    "            parent = expanded[state[0]] #gets first parent\n",
    "            while (parent): #while parent != None \n",
    "                solPath.insert(0, parent) #insert the parent at the beginning of the list\n",
    "                parent = expanded[parent[0]] #sets parent equal to parent's parent\n",
    "            return solPath #returns finished solution path\n",
    "\n",
    "        children.sort() #sorts children\n",
    "        children.reverse() #and reverses them so comparing results are easier\n",
    "        \n",
    "        newChildren = []\n",
    "        for item in children: #creates new children tuple list using the current state as the second value and the child item as the first\n",
    "            newChildren.append((item,state[0]))\n",
    "\n",
    "        #reverse order if bread-first\n",
    "        #unExpanded =  unExpanded + newChildren\n",
    "        unExpanded.extend(newChildren) #more efficient than above, but does the same thing\n",
    "        \n",
    "    \n",
    "successors = {'a':  ['b', 'c', 'd','e'],\n",
    "              'b':  ['e', 'f', 'g'],\n",
    "              'c':  ['a', 'h', 'i'],\n",
    "              'd':  ['j', 'z'],\n",
    "              'e':  ['k', 'l'],\n",
    "              'g':  ['m','n'],\n",
    "              'k':  ['x','y','l'],\n",
    "              'n':  ['a','k','y','a'],\n",
    "              'x':  ['y','z','x']}\n",
    "\n",
    "\n",
    "print('Breadth-first')\n",
    "print('path from a to a is', breadthFirstSearch('a', 'a', successorsf))\n",
    "print('path from a to k is', breadthFirstSearch('a', 'k', successorsf))\n",
    "print('path from a to z is', breadthFirstSearch('a', 'z', successorsf))\n",
    "print('path from a to x is', breadthFirstSearch('a', 'x', successorsf))\n",
    "print('path from a to l is', breadthFirstSearch('a', 'l', successorsf))\n",
    "\n",
    "print('Depth-first')\n",
    "print('path from a to a is', depthFirstSearch('a', 'a', successorsf))\n",
    "print('path from a to k is', depthFirstSearch('a', 'k', successorsf))\n",
    "print('path from a to z is', depthFirstSearch('a', 'z', successorsf))\n",
    "print('path from a to x is', depthFirstSearch('a', 'x', successorsf))\n",
    "print('path from a to l is', depthFirstSearch('a', 'l', successorsf))"
   ]
  },
  {
   "cell_type": "markdown",
   "metadata": {},
   "source": [
    "# Example"
   ]
  },
  {
   "cell_type": "markdown",
   "metadata": {},
   "source": [
    "Here is a simple example.  States are defined by lower case letters.  A dictionary stores a list of successor states for each state in the graph that has successors."
   ]
  },
  {
   "cell_type": "code",
   "execution_count": 61,
   "metadata": {},
   "outputs": [
    {
     "data": {
      "text/plain": [
       "{'a': ['b', 'c', 'd'],\n",
       " 'b': ['e', 'f', 'g'],\n",
       " 'c': ['a', 'h', 'i'],\n",
       " 'd': ['j', 'z'],\n",
       " 'e': ['k', 'l'],\n",
       " 'g': ['m'],\n",
       " 'k': ['z']}"
      ]
     },
     "execution_count": 61,
     "metadata": {},
     "output_type": "execute_result"
    }
   ],
   "source": [
    "successors = {'a':  ['b', 'c', 'd'],\n",
    "              'b':  ['e', 'f', 'g'],\n",
    "              'c':  ['a', 'h', 'i'],\n",
    "              'd':  ['j', 'z'],\n",
    "              'e':  ['k', 'l'],\n",
    "              'g':  ['m'],\n",
    "              'k':  ['z']}\n",
    "successors"
   ]
  },
  {
   "cell_type": "code",
   "execution_count": 62,
   "metadata": {
    "collapsed": true
   },
   "outputs": [],
   "source": [
    "import copy\n",
    "\n",
    "def successorsf(state):\n",
    "    return copy.copy(successors.get(state, []))"
   ]
  },
  {
   "cell_type": "code",
   "execution_count": 63,
   "metadata": {},
   "outputs": [
    {
     "data": {
      "text/plain": [
       "['k', 'l']"
      ]
     },
     "execution_count": 63,
     "metadata": {},
     "output_type": "execute_result"
    }
   ],
   "source": [
    "successorsf('e')"
   ]
  },
  {
   "cell_type": "code",
   "execution_count": 64,
   "metadata": {},
   "outputs": [
    {
     "name": "stdout",
     "output_type": "stream",
     "text": [
      "Breadth-first\n",
      "path from a to a is ['a']\n",
      "path from a to m is ['a', 'b', 'g', 'm']\n",
      "path from a to z is ['a', 'd', 'z']\n"
     ]
    }
   ],
   "source": [
    "print('Breadth-first')\n",
    "print('path from a to a is', breadthFirstSearch('a', 'a', successorsf))\n",
    "print('path from a to m is', breadthFirstSearch('a', 'm', successorsf))\n",
    "print('path from a to z is', breadthFirstSearch('a', 'z', successorsf))"
   ]
  },
  {
   "cell_type": "code",
   "execution_count": 65,
   "metadata": {},
   "outputs": [
    {
     "name": "stdout",
     "output_type": "stream",
     "text": [
      "Depth-first\n",
      "path from a to a is ['a']\n",
      "path from a to m is ['a', 'b', 'g', 'm']\n",
      "path from a to z is ['a', 'b', 'e', 'k', 'z']\n"
     ]
    }
   ],
   "source": [
    "print('Depth-first')\n",
    "print('path from a to a is', depthFirstSearch('a', 'a', successorsf))\n",
    "print('path from a to m is', depthFirstSearch('a', 'm', successorsf))\n",
    "print('path from a to z is', depthFirstSearch('a', 'z', successorsf))"
   ]
  },
  {
   "cell_type": "markdown",
   "metadata": {},
   "source": [
    "Let's try a navigation problem around a grid of size 10 x 10."
   ]
  },
  {
   "cell_type": "code",
   "execution_count": 66,
   "metadata": {
    "collapsed": true
   },
   "outputs": [],
   "source": [
    "def gridSuccessors(state):\n",
    "    row, col = state\n",
    "    # succs will be list of tuples () rather than list of lists [] because state must\n",
    "    # be an immutable type to serve as a key in dictionary of expanded nodes\n",
    "    succs = []\n",
    "    for r in [-1, 0, 1]:\n",
    "        for c in [-1, 0, 1]:\n",
    "            newr = row + r\n",
    "            newc = col + c\n",
    "            if 0 <= newr <= 9 and 0 <= newc <= 9:  # cool, huh?\n",
    "                succs.append( (newr, newc) )\n",
    "    return succs"
   ]
  },
  {
   "cell_type": "code",
   "execution_count": 67,
   "metadata": {},
   "outputs": [
    {
     "data": {
      "text/plain": [
       "[(2, 3), (2, 4), (2, 5), (3, 3), (3, 4), (3, 5), (4, 3), (4, 4), (4, 5)]"
      ]
     },
     "execution_count": 67,
     "metadata": {},
     "output_type": "execute_result"
    }
   ],
   "source": [
    "gridSuccessors([3,4])"
   ]
  },
  {
   "cell_type": "code",
   "execution_count": 68,
   "metadata": {},
   "outputs": [
    {
     "data": {
      "text/plain": [
       "[(2, 8), (2, 9), (3, 8), (3, 9), (4, 8), (4, 9)]"
      ]
     },
     "execution_count": 68,
     "metadata": {},
     "output_type": "execute_result"
    }
   ],
   "source": [
    "gridSuccessors([3,9])"
   ]
  },
  {
   "cell_type": "code",
   "execution_count": 69,
   "metadata": {},
   "outputs": [
    {
     "data": {
      "text/plain": [
       "[(0, 0), (0, 1), (1, 0), (1, 1)]"
      ]
     },
     "execution_count": 69,
     "metadata": {},
     "output_type": "execute_result"
    }
   ],
   "source": [
    "gridSuccessors([0,0])"
   ]
  },
  {
   "cell_type": "code",
   "execution_count": 70,
   "metadata": {},
   "outputs": [
    {
     "name": "stdout",
     "output_type": "stream",
     "text": [
      "Breadth-first\n"
     ]
    },
    {
     "ename": "KeyError",
     "evalue": "7",
     "output_type": "error",
     "traceback": [
      "\u001b[1;31m---------------------------------------------------------------------------\u001b[0m",
      "\u001b[1;31mKeyError\u001b[0m                                  Traceback (most recent call last)",
      "\u001b[1;32m~\\OneDrive\\Documents\\Programming\\Git\\CS440\\Assignments\\A1grader.py\u001b[0m in \u001b[0;36m<module>\u001b[1;34m()\u001b[0m\n\u001b[0;32m      1\u001b[0m \u001b[0mprint\u001b[0m\u001b[1;33m(\u001b[0m\u001b[1;34m'Breadth-first'\u001b[0m\u001b[1;33m)\u001b[0m\u001b[1;33m\u001b[0m\u001b[0m\n\u001b[1;32m----> 2\u001b[1;33m \u001b[0mprint\u001b[0m\u001b[1;33m(\u001b[0m\u001b[1;34m'path from (0, 0) to (9, 9) is'\u001b[0m\u001b[1;33m,\u001b[0m \u001b[0mbreadthFirstSearch\u001b[0m\u001b[1;33m(\u001b[0m\u001b[1;33m(\u001b[0m\u001b[1;36m0\u001b[0m\u001b[1;33m,\u001b[0m \u001b[1;36m0\u001b[0m\u001b[1;33m)\u001b[0m\u001b[1;33m,\u001b[0m \u001b[1;33m(\u001b[0m\u001b[1;36m9\u001b[0m\u001b[1;33m,\u001b[0m \u001b[1;36m9\u001b[0m\u001b[1;33m)\u001b[0m\u001b[1;33m,\u001b[0m \u001b[0mgridSuccessors\u001b[0m\u001b[1;33m)\u001b[0m\u001b[1;33m)\u001b[0m\u001b[1;33m\u001b[0m\u001b[0m\n\u001b[0m",
      "\u001b[1;32m~\\OneDrive\\Documents\\Programming\\Git\\CS440\\Assignments\\A1grader.py\u001b[0m in \u001b[0;36mbreadthFirstSearch\u001b[1;34m(startState, goalState, successorsf)\u001b[0m\n\u001b[0;32m     36\u001b[0m             \u001b[1;32mwhile\u001b[0m \u001b[1;33m(\u001b[0m\u001b[0mparent\u001b[0m\u001b[1;33m)\u001b[0m\u001b[1;33m:\u001b[0m\u001b[1;33m\u001b[0m\u001b[0m\n\u001b[0;32m     37\u001b[0m                 \u001b[0msolPath\u001b[0m\u001b[1;33m.\u001b[0m\u001b[0minsert\u001b[0m\u001b[1;33m(\u001b[0m\u001b[1;36m0\u001b[0m\u001b[1;33m,\u001b[0m \u001b[0mparent\u001b[0m\u001b[1;33m)\u001b[0m\u001b[1;33m\u001b[0m\u001b[0m\n\u001b[1;32m---> 38\u001b[1;33m                 \u001b[0mparent\u001b[0m \u001b[1;33m=\u001b[0m \u001b[0mexpanded\u001b[0m\u001b[1;33m[\u001b[0m\u001b[0mparent\u001b[0m\u001b[1;33m[\u001b[0m\u001b[1;36m0\u001b[0m\u001b[1;33m]\u001b[0m\u001b[1;33m]\u001b[0m\u001b[1;33m\u001b[0m\u001b[0m\n\u001b[0m\u001b[0;32m     39\u001b[0m             \u001b[1;32mreturn\u001b[0m \u001b[0msolPath\u001b[0m\u001b[1;33m\u001b[0m\u001b[0m\n\u001b[0;32m     40\u001b[0m \u001b[1;33m\u001b[0m\u001b[0m\n",
      "\u001b[1;31mKeyError\u001b[0m: 7"
     ]
    }
   ],
   "source": [
    "print('Breadth-first')\n",
    "print('path from (0, 0) to (9, 9) is', breadthFirstSearch((0, 0), (9, 9), gridSuccessors))"
   ]
  },
  {
   "cell_type": "code",
   "execution_count": null,
   "metadata": {
    "collapsed": true
   },
   "outputs": [],
   "source": [
    "print('Depth-first')\n",
    "print('path from (0, 0) to (9, 9) is', depthFirstSearch((0, 0), (9, 9), gridSuccessors))"
   ]
  },
  {
   "cell_type": "markdown",
   "metadata": {},
   "source": [
    "Oooo, what kind of path is that?  Let's plot it."
   ]
  },
  {
   "cell_type": "code",
   "execution_count": null,
   "metadata": {
    "collapsed": true
   },
   "outputs": [],
   "source": [
    "import matplotlib.pyplot as plt\n",
    "%matplotlib inline"
   ]
  },
  {
   "cell_type": "code",
   "execution_count": null,
   "metadata": {
    "collapsed": true
   },
   "outputs": [],
   "source": [
    "path = depthFirstSearch((0, 0), (9, 9), gridSuccessors)\n",
    "path"
   ]
  },
  {
   "cell_type": "code",
   "execution_count": null,
   "metadata": {
    "collapsed": true,
    "scrolled": true
   },
   "outputs": [],
   "source": [
    "rows = [location[0] for location in path]\n",
    "cols = [location[1] for location in path]\n",
    "plt.plot(rows,cols,'o-');"
   ]
  },
  {
   "cell_type": "code",
   "execution_count": null,
   "metadata": {
    "collapsed": true
   },
   "outputs": [],
   "source": [
    "path = breadthFirstSearch((0, 0), (9, 9), gridSuccessors)\n",
    "path"
   ]
  },
  {
   "cell_type": "code",
   "execution_count": null,
   "metadata": {
    "collapsed": true
   },
   "outputs": [],
   "source": [
    "rows = [location[0] for location in path]\n",
    "cols = [location[1] for location in path]\n",
    "plt.plot(rows,cols,'o-');"
   ]
  },
  {
   "cell_type": "code",
   "execution_count": null,
   "metadata": {
    "collapsed": true
   },
   "outputs": [],
   "source": [
    "depthFirstSearch((0, 0), (9, 20), gridSuccessors)"
   ]
  },
  {
   "cell_type": "markdown",
   "metadata": {},
   "source": [
    "# Extra Credit\n",
    "\n",
    "For extra credit, use your functions to solve the Camels Puzzle, described at [Logic Puzzles](http://www.folj.com/puzzles/).\n",
    "The following code illustrates one possible state representation and shows results of a breadth-first and a dept-first search.  You must define a new successors function, called `camelSuccessorsf`. "
   ]
  },
  {
   "cell_type": "code",
   "execution_count": 7,
   "metadata": {},
   "outputs": [
    {
     "data": {
      "text/plain": [
       "('R', 'R', 'R', 'R', ' ', 'L', 'L', 'L', 'L')"
      ]
     },
     "execution_count": 7,
     "metadata": {},
     "output_type": "execute_result"
    }
   ],
   "source": [
    "camelStartState"
   ]
  },
  {
   "cell_type": "code",
   "execution_count": 8,
   "metadata": {},
   "outputs": [
    {
     "data": {
      "text/plain": [
       "('L', 'L', 'L', 'L', ' ', 'R', 'R', 'R', 'R')"
      ]
     },
     "execution_count": 8,
     "metadata": {},
     "output_type": "execute_result"
    }
   ],
   "source": [
    "camelGoalState"
   ]
  },
  {
   "cell_type": "code",
   "execution_count": 9,
   "metadata": {},
   "outputs": [
    {
     "data": {
      "text/plain": [
       "[('R', 'R', 'R', ' ', 'R', 'L', 'L', 'L', 'L'),\n",
       " ('R', 'R', 'R', 'R', 'L', ' ', 'L', 'L', 'L')]"
      ]
     },
     "execution_count": 9,
     "metadata": {},
     "output_type": "execute_result"
    }
   ],
   "source": [
    "camelSuccessorsf(camelStartState)"
   ]
  },
  {
   "cell_type": "code",
   "execution_count": 10,
   "metadata": {},
   "outputs": [
    {
     "name": "stdout",
     "output_type": "stream",
     "text": [
      "('R', 'R', 'R', ' ', 'R', 'L', 'L', 'L', 'L')\n"
     ]
    },
    {
     "data": {
      "text/plain": [
       "[('R', 'R', ' ', 'R', 'R', 'L', 'L', 'L', 'L'),\n",
       " ('R', 'R', 'R', 'L', 'R', ' ', 'L', 'L', 'L')]"
      ]
     },
     "execution_count": 10,
     "metadata": {},
     "output_type": "execute_result"
    }
   ],
   "source": [
    "children = camelSuccessorsf(camelStartState)\n",
    "print(children[0])\n",
    "camelSuccessorsf(children[0])"
   ]
  },
  {
   "cell_type": "code",
   "execution_count": 11,
   "metadata": {},
   "outputs": [
    {
     "name": "stdout",
     "output_type": "stream",
     "text": [
      "Breadth-first solution: ( 25 steps)\n",
      "('R', 'R', 'R', 'R', ' ', 'L', 'L', 'L', 'L')\n",
      "('R', 'R', 'R', ' ', 'R', 'L', 'L', 'L', 'L')\n",
      "('R', 'R', 'R', 'L', 'R', ' ', 'L', 'L', 'L')\n",
      "('R', 'R', 'R', 'L', 'R', 'L', ' ', 'L', 'L')\n",
      "('R', 'R', 'R', 'L', ' ', 'L', 'R', 'L', 'L')\n",
      "('R', 'R', ' ', 'L', 'R', 'L', 'R', 'L', 'L')\n",
      "('R', ' ', 'R', 'L', 'R', 'L', 'R', 'L', 'L')\n",
      "('R', 'L', 'R', ' ', 'R', 'L', 'R', 'L', 'L')\n",
      "('R', 'L', 'R', 'L', 'R', ' ', 'R', 'L', 'L')\n",
      "('R', 'L', 'R', 'L', 'R', 'L', 'R', ' ', 'L')\n",
      "('R', 'L', 'R', 'L', 'R', 'L', 'R', 'L', ' ')\n",
      "('R', 'L', 'R', 'L', 'R', 'L', ' ', 'L', 'R')\n",
      "('R', 'L', 'R', 'L', ' ', 'L', 'R', 'L', 'R')\n",
      "('R', 'L', ' ', 'L', 'R', 'L', 'R', 'L', 'R')\n",
      "(' ', 'L', 'R', 'L', 'R', 'L', 'R', 'L', 'R')\n",
      "('L', ' ', 'R', 'L', 'R', 'L', 'R', 'L', 'R')\n",
      "('L', 'L', 'R', ' ', 'R', 'L', 'R', 'L', 'R')\n",
      "('L', 'L', 'R', 'L', 'R', ' ', 'R', 'L', 'R')\n",
      "('L', 'L', 'R', 'L', 'R', 'L', 'R', ' ', 'R')\n",
      "('L', 'L', 'R', 'L', 'R', 'L', ' ', 'R', 'R')\n",
      "('L', 'L', 'R', 'L', ' ', 'L', 'R', 'R', 'R')\n",
      "('L', 'L', ' ', 'L', 'R', 'L', 'R', 'R', 'R')\n",
      "('L', 'L', 'L', ' ', 'R', 'L', 'R', 'R', 'R')\n",
      "('L', 'L', 'L', 'L', 'R', ' ', 'R', 'R', 'R')\n",
      "('L', 'L', 'L', 'L', ' ', 'R', 'R', 'R', 'R')\n",
      "Depth-first solution: ( 25 steps)\n",
      "('R', 'R', 'R', 'R', ' ', 'L', 'L', 'L', 'L')\n",
      "('R', 'R', 'R', ' ', 'R', 'L', 'L', 'L', 'L')\n",
      "('R', 'R', 'R', 'L', 'R', ' ', 'L', 'L', 'L')\n",
      "('R', 'R', 'R', 'L', 'R', 'L', ' ', 'L', 'L')\n",
      "('R', 'R', 'R', 'L', ' ', 'L', 'R', 'L', 'L')\n",
      "('R', 'R', ' ', 'L', 'R', 'L', 'R', 'L', 'L')\n",
      "('R', ' ', 'R', 'L', 'R', 'L', 'R', 'L', 'L')\n",
      "('R', 'L', 'R', ' ', 'R', 'L', 'R', 'L', 'L')\n",
      "('R', 'L', 'R', 'L', 'R', ' ', 'R', 'L', 'L')\n",
      "('R', 'L', 'R', 'L', 'R', 'L', 'R', ' ', 'L')\n",
      "('R', 'L', 'R', 'L', 'R', 'L', 'R', 'L', ' ')\n",
      "('R', 'L', 'R', 'L', 'R', 'L', ' ', 'L', 'R')\n",
      "('R', 'L', 'R', 'L', ' ', 'L', 'R', 'L', 'R')\n",
      "('R', 'L', ' ', 'L', 'R', 'L', 'R', 'L', 'R')\n",
      "(' ', 'L', 'R', 'L', 'R', 'L', 'R', 'L', 'R')\n",
      "('L', ' ', 'R', 'L', 'R', 'L', 'R', 'L', 'R')\n",
      "('L', 'L', 'R', ' ', 'R', 'L', 'R', 'L', 'R')\n",
      "('L', 'L', 'R', 'L', 'R', ' ', 'R', 'L', 'R')\n",
      "('L', 'L', 'R', 'L', 'R', 'L', 'R', ' ', 'R')\n",
      "('L', 'L', 'R', 'L', 'R', 'L', ' ', 'R', 'R')\n",
      "('L', 'L', 'R', 'L', ' ', 'L', 'R', 'R', 'R')\n",
      "('L', 'L', ' ', 'L', 'R', 'L', 'R', 'R', 'R')\n",
      "('L', 'L', 'L', ' ', 'R', 'L', 'R', 'R', 'R')\n",
      "('L', 'L', 'L', 'L', 'R', ' ', 'R', 'R', 'R')\n",
      "('L', 'L', 'L', 'L', ' ', 'R', 'R', 'R', 'R')\n"
     ]
    }
   ],
   "source": [
    "bfs = breadthFirstSearch(camelStartState, camelGoalState, camelSuccessorsf)\n",
    "print('Breadth-first solution: (', len(bfs), 'steps)')\n",
    "for s in bfs:\n",
    "    print(s)\n",
    "\n",
    "dfs = depthFirstSearch(camelStartState, camelGoalState, camelSuccessorsf)\n",
    "print('Depth-first solution: (', len(dfs), 'steps)')\n",
    "for s in dfs:\n",
    "    print(s)"
   ]
  }
 ],
 "metadata": {
  "anaconda-cloud": {},
  "kernelspec": {
   "display_name": "Python 3",
   "language": "python",
   "name": "python3"
  },
  "language_info": {
   "codemirror_mode": {
    "name": "ipython",
    "version": 3
   },
   "file_extension": ".py",
   "mimetype": "text/x-python",
   "name": "python",
   "nbconvert_exporter": "python",
   "pygments_lexer": "ipython3",
   "version": "3.6.2"
  }
 },
 "nbformat": 4,
 "nbformat_minor": 1
}
